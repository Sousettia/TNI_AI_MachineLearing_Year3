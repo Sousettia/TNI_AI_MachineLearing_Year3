{
 "cells": [
  {
   "cell_type": "code",
   "execution_count": 14,
   "metadata": {},
   "outputs": [],
   "source": [
    "# Import Python Modules\n",
    "from selenium import webdriver\n",
    "from webdriver_manager.microsoft import EdgeChromiumDriverManager\n",
    "from selenium.webdriver.edge.service import Service\n",
    "from selenium.webdriver.common.keys import Keys"
   ]
  },
  {
   "cell_type": "code",
   "execution_count": 15,
   "metadata": {},
   "outputs": [],
   "source": [
    "import pandas as pd # type: ignore\n",
    "df = pd.read_excel('Currency.xlsx')"
   ]
  },
  {
   "cell_type": "code",
   "execution_count": 16,
   "metadata": {},
   "outputs": [
    {
     "name": "stdout",
     "output_type": "stream",
     "text": [
      "USD\n",
      "EUR\n",
      "GBP\n",
      "JPY\n",
      "SGD\n",
      "HKD\n",
      "AUD\n",
      "CAD\n",
      "NTD\n",
      "RMB\n"
     ]
    }
   ],
   "source": [
    "for i in df.index:\n",
    "    print(df['Currency'][i])"
   ]
  },
  {
   "cell_type": "code",
   "execution_count": 17,
   "metadata": {},
   "outputs": [],
   "source": [
    "# Open Chrome WebBrowser\n",
    "service = Service(EdgeChromiumDriverManager().install())\n",
    "driver = webdriver.Edge(service=service)\n",
    "driver.maximize_window()\n",
    "url = 'https://www.google.com/'\n",
    "driver.get(url)"
   ]
  },
  {
   "cell_type": "code",
   "execution_count": 18,
   "metadata": {},
   "outputs": [
    {
     "name": "stdout",
     "output_type": "stream",
     "text": [
      "USD 36.19\n",
      "EUR 39.39\n",
      "GBP 46.87\n",
      "JPY 0.23\n",
      "SGD 26.94\n",
      "HKD 4.64\n",
      "AUD 24.52\n",
      "CAD 26.58\n",
      "NTD 1.11\n",
      "RMB 4.99\n"
     ]
    }
   ],
   "source": [
    "for i in df.index:\n",
    "    search_field = driver.find_element('xpath','//*[@id=\"APjFqb\"]')\n",
    "    search_field.clear()\n",
    "    search_field.send_keys(df['Currency'][i] + ' to thb')\n",
    "    search_field.send_keys(Keys.ENTER)\n",
    "    value = driver.find_element('xpath','//*[@id=\"knowledge-currency__updatable-data-column\"]/div[1]/div[2]/span[1]').text\n",
    "    df.loc[i,'Value'] = float(value) # Write data into Excel\n",
    "    print(df['Currency'][i],value)\n",
    "    driver.back()"
   ]
  },
  {
   "cell_type": "code",
   "execution_count": 19,
   "metadata": {},
   "outputs": [],
   "source": [
    "df.to_excel('Currency.xlsx',index=False)"
   ]
  }
 ],
 "metadata": {
  "kernelspec": {
   "display_name": "base",
   "language": "python",
   "name": "python3"
  },
  "language_info": {
   "codemirror_mode": {
    "name": "ipython",
    "version": 3
   },
   "file_extension": ".py",
   "mimetype": "text/x-python",
   "name": "python",
   "nbconvert_exporter": "python",
   "pygments_lexer": "ipython3",
   "version": "3.12.4"
  }
 },
 "nbformat": 4,
 "nbformat_minor": 2
}

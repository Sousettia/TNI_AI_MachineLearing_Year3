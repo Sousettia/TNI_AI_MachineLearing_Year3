{
  "cells": [
    {
      "cell_type": "code",
      "execution_count": null,
      "metadata": {
        "id": "cA3O6lA0-31l"
      },
      "outputs": [],
      "source": [
        "from tensorflow.keras.applications.[Here] import [Here], preprocess_input, decode_predictions\n",
        "from tensorflow.keras.preprocessing import image\n",
        "import numpy as np"
      ]
    },
    {
      "cell_type": "code",
      "execution_count": null,
      "metadata": {
        "id": "oVHdw75F-9nP"
      },
      "outputs": [],
      "source": [
        "# Define Pretrained model\n",
        "\n",
        "model = [Here](weights='imagenet')"
      ]
    },
    {
      "cell_type": "code",
      "execution_count": null,
      "metadata": {
        "id": "rc1DIV6K_HoN"
      },
      "outputs": [],
      "source": [
        "img_path = '[Here]'\n",
        "img = image.load_img(img_path, target_size=(224, 224))\n",
        "x = image.img_to_array(img)\n",
        "x = np.expand_dims(x, axis=0)\n",
        "x = preprocess_input(x)"
      ]
    },
    {
      "cell_type": "code",
      "execution_count": null,
      "metadata": {
        "id": "l-OhA5MaxQar"
      },
      "outputs": [],
      "source": [
        "# id: i[0], object: i[1], probability: i[2]\n",
        "prediction = model.predict(x)\n",
        "y = decode_predictions(prediction, top=5)[0] # take a list in a list\n",
        "for i in y:\n",
        "    print(i[1], float(100*i[2]))"
      ]
    }
  ],
  "metadata": {
    "colab": {
      "provenance": []
    },
    "kernelspec": {
      "display_name": "Python 3",
      "name": "python3"
    },
    "language_info": {
      "name": "python"
    }
  },
  "nbformat": 4,
  "nbformat_minor": 0
}

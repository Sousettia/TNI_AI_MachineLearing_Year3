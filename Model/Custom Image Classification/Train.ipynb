{
  "cells": [
    {
      "cell_type": "code",
      "execution_count": null,
      "metadata": {
        "id": "HOYjYOzsN7hU"
      },
      "outputs": [],
      "source": [
        "from keras.models import Sequential\n",
        "from keras.layers import Dense, Dropout, Flatten\n",
        "from pathlib import Path\n",
        "import joblib"
      ]
    },
    {
      "cell_type": "code",
      "execution_count": null,
      "metadata": {
        "id": "XK4HShVxN_IK"
      },
      "outputs": [],
      "source": [
        "# Load data set\n",
        "# define filenames\n",
        "x_train = joblib.load('')\n",
        "y_train = joblib.load('')"
      ]
    },
    {
      "cell_type": "code",
      "execution_count": null,
      "metadata": {
        "id": "dOVIX0bzOFbn"
      },
      "outputs": [],
      "source": [
        "# Create a model and add layers\n",
        "model = Sequential()\n",
        "model.add(Flatten(input_shape=x_train.shape[1:]))\n",
        "\n",
        "# define the number of neuron and activation function\n",
        "model.add(Dense(, activation=''))\n",
        "model.add(Dropout(0.5))\n",
        "\n",
        "# define the number of output classes and output activation function\n",
        "model.add(Dense(, activation=''))"
      ]
    },
    {
      "cell_type": "code",
      "execution_count": null,
      "metadata": {
        "id": "xkONhbJBOWuq"
      },
      "outputs": [],
      "source": [
        "# Compile the model\n",
        "model.compile(\n",
        "    '''\n",
        "    binary classification: 'binary_crossentropy', \n",
        "    multiple classification: 'categorical_crossentropy', output example: [1,0,0], [0,1,0], [0,0,1]\n",
        "    multiple classification: 'sparse_categorical_crossentropy' output example: 0,1,2\n",
        "    '''\n",
        "\n",
        "    # define loss function, optimizer, and metrics\n",
        "    loss='',\n",
        "    optimizer='',\n",
        "    metrics=['']\n",
        ")"
      ]
    },
    {
      "cell_type": "code",
      "execution_count": null,
      "metadata": {
        "id": "djKA-nwVPC6j"
      },
      "outputs": [],
      "source": [
        "# Train the model\n",
        "\n",
        "# define x train, y train, and epoches\n",
        "model.fit(\n",
        "    ,\n",
        "    ,\n",
        "    epochs=,\n",
        "    shuffle=True\n",
        ")"
      ]
    },
    {
      "cell_type": "code",
      "execution_count": null,
      "metadata": {
        "id": "Of22KmCfPRE6"
      },
      "outputs": [],
      "source": [
        "# Save neural network structure\n",
        "model_structure = model.to_json()\n",
        "\n",
        "# define json filename\n",
        "f = Path('')\n",
        "f.write_text(model_structure)"
      ]
    },
    {
      "cell_type": "code",
      "execution_count": null,
      "metadata": {
        "id": "FJZw2UJUPU9o"
      },
      "outputs": [],
      "source": [
        "# Save neural network's trained weights\n",
        "\n",
        "# define h5 filename\n",
        "model.save_weights(\"model.weights.h5\")"
      ]
    }
  ],
  "metadata": {
    "colab": {
      "provenance": []
    },
    "kernelspec": {
      "display_name": "Python 3",
      "name": "python3"
    },
    "language_info": {
      "name": "python"
    }
  },
  "nbformat": 4,
  "nbformat_minor": 0
}

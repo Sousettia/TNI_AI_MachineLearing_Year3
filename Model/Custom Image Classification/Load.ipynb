{
  "cells": [
    {
      "cell_type": "code",
      "execution_count": null,
      "metadata": {
        "id": "ZQoLrUq5MGwN"
      },
      "outputs": [],
      "source": [
        "from pathlib import Path\n",
        "import numpy as np\n",
        "import joblib\n",
        "import keras\n",
        "from tensorflow.keras.preprocessing import image\n",
        "from keras.applications import vgg16"
      ]
    },
    {
      "cell_type": "code",
      "execution_count": null,
      "metadata": {
        "id": "hRWRqIN6MMIY"
      },
      "outputs": [],
      "source": [
        "# define the classes\n",
        "classes = []"
      ]
    },
    {
      "cell_type": "code",
      "execution_count": null,
      "metadata": {
        "id": "xMnHF4yEMS-z"
      },
      "outputs": [],
      "source": [
        "paths = []\n",
        "for c in classes:\n",
        "    # define training data folder\n",
        "    paths.append(Path('') / c)"
      ]
    },
    {
      "cell_type": "code",
      "execution_count": null,
      "metadata": {
        "id": "IeuK7eISMdaL"
      },
      "outputs": [],
      "source": [
        "images = []\n",
        "labels = []"
      ]
    },
    {
      "cell_type": "code",
      "execution_count": null,
      "metadata": {
        "id": "MmhDeqiVMeLH"
      },
      "outputs": [],
      "source": [
        "class_index = 0\n",
        "for path in paths:\n",
        "    count_image = 0\n",
        "    for img in path.glob(\"*.jpeg\"):\n",
        "        img = image.load_img(img,target_size=(224, 224))\n",
        "        image_array = image.img_to_array(img)\n",
        "        images.append(image_array)\n",
        "        labels.append(class_index)\n",
        "        count_image += 1\n",
        "    print('The number of ', classes[class_index], count_image)\n",
        "    class_index += 1"
      ]
    },
    {
      "cell_type": "code",
      "execution_count": null,
      "metadata": {
        "id": "T8ly0TDkMwRi"
      },
      "outputs": [],
      "source": [
        "x_train = np.array(images)\n",
        "y_train = np.array(labels)"
      ]
    },
    {
      "cell_type": "code",
      "execution_count": null,
      "metadata": {
        "id": "h3SsKqZhMyIz"
      },
      "outputs": [],
      "source": [
        "# define pretrained model\n",
        "x_train = .preprocess_input(x_train) # Normalize image data to 0-to-1 range"
      ]
    },
    {
      "cell_type": "code",
      "execution_count": null,
      "metadata": {
        "id": "pWHNjyscM3-j"
      },
      "outputs": [],
      "source": [
        "# define pretrained model\n",
        "pretrained_nn = (weights='', include_top=, input_shape=(, , ))\n",
        "features_x = pretrained_nn.predict(x_train)"
      ]
    },
    {
      "cell_type": "code",
      "execution_count": null,
      "metadata": {
        "id": "KQ3uqhMUM6Zr"
      },
      "outputs": [],
      "source": [
        "# define output filenames\n",
        "joblib.dump(features_x, '')\n",
        "joblib.dump(y_train, '')"
      ]
    }
  ],
  "metadata": {
    "colab": {
      "provenance": []
    },
    "kernelspec": {
      "display_name": "Python 3",
      "name": "python3"
    },
    "language_info": {
      "name": "python"
    }
  },
  "nbformat": 4,
  "nbformat_minor": 0
}

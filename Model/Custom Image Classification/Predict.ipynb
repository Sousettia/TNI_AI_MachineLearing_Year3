{
  "cells": [
    {
      "cell_type": "code",
      "execution_count": null,
      "metadata": {
        "id": "Gbvx9ap7Ph3i"
      },
      "outputs": [],
      "source": [
        "from keras.models import model_from_json\n",
        "from pathlib import Path\n",
        "from tensorflow.keras.preprocessing import image\n",
        "import numpy as np\n",
        "from keras.applications import vgg16"
      ]
    },
    {
      "cell_type": "code",
      "execution_count": null,
      "metadata": {
        "id": "HGe1Y7pnPjuN"
      },
      "outputs": [],
      "source": [
        "# define json filename\n",
        "f = Path('') # Load the json file that contains the model's structure\n",
        "model_structure = f.read_text()\n",
        "# Recreate the Keras model object from the json data\n",
        "model = model_from_json(model_structure)"
      ]
    },
    {
      "cell_type": "code",
      "execution_count": null,
      "metadata": {
        "id": "k3eAn0A1Pod4"
      },
      "outputs": [],
      "source": [
        "# define h5 filename\n",
        "model.load_weights('') # Re-load the model's trained weights"
      ]
    },
    {
      "cell_type": "code",
      "execution_count": null,
      "metadata": {
        "id": "IhdJa9MAPznx"
      },
      "outputs": [],
      "source": [
        "# Load an image file to test, resizing it to 64x64 pixels (as required by this model)\n",
        "\n",
        "# define filename for testing\n",
        "img = image.load_img('', target_size=(, ))"
      ]
    },
    {
      "cell_type": "code",
      "execution_count": null,
      "metadata": {
        "id": "wHX5km_IQpRz"
      },
      "outputs": [],
      "source": [
        "# Convert the image to a numpy array\n",
        "image_array = image.img_to_array(img)\n",
        "\n",
        "# Add a forth dimension to the image (since Keras expects a bunch of images, not a single image)\n",
        "images = np.expand_dims(image_array, axis=0)"
      ]
    },
    {
      "cell_type": "code",
      "execution_count": null,
      "metadata": {
        "id": "pRnOcgFAQp71"
      },
      "outputs": [],
      "source": [
        "# Normalize the data\n",
        "\n",
        "# define cnn model\n",
        "images = .preprocess_input(images)"
      ]
    },
    {
      "cell_type": "code",
      "execution_count": null,
      "metadata": {
        "id": "gYnPV8hZQz1Z"
      },
      "outputs": [],
      "source": [
        "# Use the pre-trained neural network to extract features from our test image (the same way we did to train the model)\n",
        "\n",
        "# define cnn model\n",
        "feature_extraction_model = (weights='imagenet', include_top=False, input_shape=(224, 224, 3))\n",
        "features = feature_extraction_model.predict(images)"
      ]
    },
    {
      "cell_type": "code",
      "execution_count": null,
      "metadata": {
        "id": "HmHmF8ipRKKs"
      },
      "outputs": [],
      "source": [
        "# Given the extracted features, make a final prediction using our own model\n",
        "\n",
        "# define model prediction\n",
        "results = \n",
        "print('Probability:', results)"
      ]
    },
    {
      "cell_type": "code",
      "execution_count": null,
      "metadata": {
        "id": "H9WpPpLXRYh8"
      },
      "outputs": [],
      "source": [
        "predicted_class = np.argmax(results)\n",
        "print(predicted_class)"
      ]
    },
    {
      "cell_type": "code",
      "execution_count": null,
      "metadata": {
        "id": "UMCmeZJDRaPs"
      },
      "outputs": [],
      "source": [
        "# define translate output prediction to class names\n",
        "predicted_name = 'None'\n",
        "if predicted_class==:\n",
        "    predicted_name = ''\n",
        "elif predicted_class==:\n",
        "    predicted_name = ''\n",
        "else:\n",
        "    predicted_name = ''"
      ]
    },
    {
      "cell_type": "code",
      "execution_count": null,
      "metadata": {
        "id": "eEHA3XI0RvyJ"
      },
      "outputs": [],
      "source": [
        "print('This is', predicted_name,'with confidence:', results[0][np.argmax(results)]*100)"
      ]
    }
  ],
  "metadata": {
    "colab": {
      "provenance": []
    },
    "kernelspec": {
      "display_name": "Python 3",
      "name": "python3"
    },
    "language_info": {
      "name": "python"
    }
  },
  "nbformat": 4,
  "nbformat_minor": 0
}

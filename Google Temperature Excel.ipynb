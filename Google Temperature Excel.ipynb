{
 "cells": [
  {
   "cell_type": "code",
   "execution_count": 17,
   "metadata": {},
   "outputs": [],
   "source": [
    "# Import Python Modules\n",
    "from selenium import webdriver\n",
    "from webdriver_manager.microsoft import EdgeChromiumDriverManager\n",
    "from selenium.webdriver.edge.service import Service\n",
    "from selenium.webdriver.common.keys import Keys"
   ]
  },
  {
   "cell_type": "code",
   "execution_count": 18,
   "metadata": {},
   "outputs": [],
   "source": [
    "import pandas as pd # type: ignore\n",
    "df = pd.read_excel('City_Temperature.xlsx')"
   ]
  },
  {
   "cell_type": "code",
   "execution_count": 19,
   "metadata": {},
   "outputs": [
    {
     "name": "stdout",
     "output_type": "stream",
     "text": [
      "Bangkok\n",
      "Paris\n",
      "London\n",
      "Tokyo\n",
      "Chicago\n",
      "New York\n",
      "Niseko \n",
      "Kyoto\n",
      "Nagasaki\n"
     ]
    }
   ],
   "source": [
    "for i in df.index:\n",
    "    print(df['City'][i])"
   ]
  },
  {
   "cell_type": "code",
   "execution_count": 20,
   "metadata": {},
   "outputs": [],
   "source": [
    "# Open Chrome WebBrowser\n",
    "service = Service(EdgeChromiumDriverManager().install())\n",
    "driver = webdriver.Edge(service=service)\n",
    "driver.maximize_window()\n",
    "url = 'https://www.google.com/'\n",
    "driver.get(url)"
   ]
  },
  {
   "cell_type": "code",
   "execution_count": 21,
   "metadata": {},
   "outputs": [
    {
     "name": "stdout",
     "output_type": "stream",
     "text": [
      "Bangkok 33\n",
      "Paris 16\n",
      "London 16\n",
      "Tokyo 23\n",
      "Chicago 21\n",
      "New York 24\n",
      "Niseko  21\n",
      "Kyoto 26\n",
      "Nagasaki 25\n"
     ]
    }
   ],
   "source": [
    "for i in df.index:\n",
    "    search_field = driver.find_element('xpath','//*[@id=\"APjFqb\"]')\n",
    "    search_field.clear()\n",
    "    search_field.send_keys(df['City'][i] + ' weather')\n",
    "    search_field.send_keys(Keys.ENTER)\n",
    "    temperature = driver.find_element('xpath','//*[@id=\"wob_tm\"]').text\n",
    "    df.loc[i,'Temperature'] = float(temperature) # Write data into Excel\n",
    "    print(df['City'][i],temperature)\n",
    "    driver.back()"
   ]
  },
  {
   "cell_type": "code",
   "execution_count": 22,
   "metadata": {},
   "outputs": [],
   "source": [
    "df.to_excel('City_Temperature.xlsx',index=False)"
   ]
  }
 ],
 "metadata": {
  "kernelspec": {
   "display_name": "base",
   "language": "python",
   "name": "python3"
  },
  "language_info": {
   "codemirror_mode": {
    "name": "ipython",
    "version": 3
   },
   "file_extension": ".py",
   "mimetype": "text/x-python",
   "name": "python",
   "nbconvert_exporter": "python",
   "pygments_lexer": "ipython3",
   "version": "3.12.4"
  }
 },
 "nbformat": 4,
 "nbformat_minor": 2
}

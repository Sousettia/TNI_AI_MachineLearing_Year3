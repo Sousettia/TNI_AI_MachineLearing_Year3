{
 "cells": [
  {
   "cell_type": "code",
   "execution_count": 5,
   "metadata": {},
   "outputs": [],
   "source": [
    "# Download Image\n",
    "\n",
    "from simple_image_download import simple_image_download as simp # type: ignore"
   ]
  },
  {
   "cell_type": "code",
   "execution_count": 6,
   "metadata": {},
   "outputs": [
    {
     "ename": "AttributeError",
     "evalue": "module 'simple_image_download.simple_image_download' has no attribute 'SimpleImageDownload'",
     "output_type": "error",
     "traceback": [
      "\u001b[1;31m---------------------------------------------------------------------------\u001b[0m",
      "\u001b[1;31mAttributeError\u001b[0m                            Traceback (most recent call last)",
      "Cell \u001b[1;32mIn[6], line 1\u001b[0m\n\u001b[1;32m----> 1\u001b[0m my_download \u001b[38;5;241m=\u001b[39m \u001b[43msimp\u001b[49m\u001b[38;5;241;43m.\u001b[39;49m\u001b[43mSimpleImageDownload\u001b[49m()\n",
      "\u001b[1;31mAttributeError\u001b[0m: module 'simple_image_download.simple_image_download' has no attribute 'SimpleImageDownload'"
     ]
    }
   ],
   "source": [
    "my_download = simp.SimpleImageDownload()"
   ]
  },
  {
   "cell_type": "code",
   "execution_count": null,
   "metadata": {},
   "outputs": [],
   "source": [
    "keywords = ['Siamese cat','Persian cat','Tabby cat','Tiger cat','Lynx']"
   ]
  },
  {
   "cell_type": "code",
   "execution_count": null,
   "metadata": {},
   "outputs": [],
   "source": [
    "for i in keywords:\n",
    "    my_download.download(i,limit=5)\n",
    "    "
   ]
  },
  {
   "cell_type": "code",
   "execution_count": null,
   "metadata": {},
   "outputs": [],
   "source": []
  }
 ],
 "metadata": {
  "kernelspec": {
   "display_name": "base",
   "language": "python",
   "name": "python3"
  },
  "language_info": {
   "codemirror_mode": {
    "name": "ipython",
    "version": 3
   },
   "file_extension": ".py",
   "mimetype": "text/x-python",
   "name": "python",
   "nbconvert_exporter": "python",
   "pygments_lexer": "ipython3",
   "version": "3.12.4"
  }
 },
 "nbformat": 4,
 "nbformat_minor": 2
}
